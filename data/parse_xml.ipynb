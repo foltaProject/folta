{
 "cells": [
  {
   "cell_type": "markdown",
   "source": [
    "## Directions for using working with XML bibles\n",
    "\n",
    "Since the bibles are in .xml format, we'll use Beautiful Soup's html parser."
   ],
   "metadata": {
    "collapsed": false
   }
  },
  {
   "cell_type": "code",
   "execution_count": null,
   "outputs": [],
   "source": [
    "# Import Beautiful Soup\n",
    "from bs4 import BeautifulSoup\n",
    "\n",
    "with open(\"data/English.xml\") as efp:   # Load bible file into memory\n",
    "    soup = BeautifulSoup(efp, \"html.parser\")  # Parse the XML"
   ],
   "metadata": {
    "collapsed": false,
    "pycharm": {
     "name": "#%%\n"
    }
   }
  },
  {
   "cell_type": "markdown",
   "source": [
    "This creates a BeautifulSoup object out of our xml."
   ],
   "metadata": {
    "collapsed": false
   }
  },
  {
   "cell_type": "code",
   "execution_count": null,
   "outputs": [],
   "source": [
    "lstrip = 24\n",
    "rstrip = -21\n",
    "sentences = []\n",
    "for tag in soup.find_all('seg'):        # Grab everything labeled as a verse\n",
    "\n",
    "    text = (str(tag.contents)[16:-16])  # Strip off any garbage meta-characters leftover from the .XML\n",
    "    sentences.append(text)     # Fill out list of bible verses"
   ],
   "metadata": {
    "collapsed": false,
    "pycharm": {
     "name": "#%%\n"
    }
   }
  },
  {
   "cell_type": "markdown",
   "source": [
    "Now, `sentences` is a list of bible verses, ready for further manipulation.\n",
    "Next, we can access and look at the verses individually by indexing the list."
   ],
   "metadata": {
    "collapsed": false
   }
  },
  {
   "cell_type": "code",
   "execution_count": null,
   "outputs": [],
   "source": [
    "sentences[0]\n",
    "\n"
   ],
   "metadata": {
    "collapsed": false,
    "pycharm": {
     "name": "#%%\n"
    }
   }
  }
 ],
 "metadata": {
  "kernelspec": {
   "display_name": "Python 3",
   "language": "python",
   "name": "python3"
  },
  "language_info": {
   "codemirror_mode": {
    "name": "ipython",
    "version": 2
   },
   "file_extension": ".py",
   "mimetype": "text/x-python",
   "name": "python",
   "nbconvert_exporter": "python",
   "pygments_lexer": "ipython2",
   "version": "2.7.6"
  }
 },
 "nbformat": 4,
 "nbformat_minor": 0
}