{
 "metadata": {
  "language_info": {
   "codemirror_mode": {
    "name": "ipython",
    "version": 3
   },
   "file_extension": ".py",
   "mimetype": "text/x-python",
   "name": "python",
   "nbconvert_exporter": "python",
   "pygments_lexer": "ipython3",
   "version": "3.8.3-final"
  },
  "orig_nbformat": 2,
  "kernelspec": {
   "name": "Python 3.8.3 64-bit",
   "display_name": "Python 3.8.3 64-bit",
   "metadata": {
    "interpreter": {
     "hash": "0de36b31320ba4c88b4f85a74724f3d16c36a44df48581253710b1065e752d9e"
    }
   }
  }
 },
 "nbformat": 4,
 "nbformat_minor": 2,
 "cells": [
  {
   "source": [
    "# Quick Analysis of the Random implementations\n",
    "\n",
    "In this notebook, I will be mimicing charts for direct comparison to those in the lemma analysis notebook.\n",
    "\n",
    "# The data we scraped"
   ],
   "cell_type": "markdown",
   "metadata": {}
  },
  {
   "cell_type": "code",
   "execution_count": 1,
   "metadata": {},
   "outputs": [
    {
     "output_type": "execute_result",
     "data": {
      "text/plain": "   family     language        model   prediction        truth        lemma  \\\n0  custom  nno+25r+eng  transformer      foajeen      foajéen        foajé   \n1  custom  nno+25r+eng  transformer  nyzealandsk  nyzealandsk  nyzealandsk   \n2  custom  nno+25r+eng  transformer      søkjast      søkjast        søkje   \n3  custom  nno+25r+eng  transformer     trenarar     trenarar       trenar   \n4  custom  nno+25r+eng  transformer      kometar      kometar        komet   \n\n             tag      loss  distance  is_correct target add_lang  %added  \n0     N;DEF;SG\\n  0.892666         1           0    nno      eng      25  \n1  ADJ;NEUT;SG\\n  0.768892         0           1    nno      eng      25  \n2  V;NFIN;PASS\\n  0.766975         0           1    nno      eng      25  \n3    N;NDEF;PL\\n  0.765859         0           1    nno      eng      25  \n4    N;NDEF;PL\\n  0.828070         0           1    nno      eng      25  ",
      "text/html": "<div>\n<style scoped>\n    .dataframe tbody tr th:only-of-type {\n        vertical-align: middle;\n    }\n\n    .dataframe tbody tr th {\n        vertical-align: top;\n    }\n\n    .dataframe thead th {\n        text-align: right;\n    }\n</style>\n<table border=\"1\" class=\"dataframe\">\n  <thead>\n    <tr style=\"text-align: right;\">\n      <th></th>\n      <th>family</th>\n      <th>language</th>\n      <th>model</th>\n      <th>prediction</th>\n      <th>truth</th>\n      <th>lemma</th>\n      <th>tag</th>\n      <th>loss</th>\n      <th>distance</th>\n      <th>is_correct</th>\n      <th>target</th>\n      <th>add_lang</th>\n      <th>%added</th>\n    </tr>\n  </thead>\n  <tbody>\n    <tr>\n      <th>0</th>\n      <td>custom</td>\n      <td>nno+25r+eng</td>\n      <td>transformer</td>\n      <td>foajeen</td>\n      <td>foajéen</td>\n      <td>foajé</td>\n      <td>N;DEF;SG\\n</td>\n      <td>0.892666</td>\n      <td>1</td>\n      <td>0</td>\n      <td>nno</td>\n      <td>eng</td>\n      <td>25</td>\n    </tr>\n    <tr>\n      <th>1</th>\n      <td>custom</td>\n      <td>nno+25r+eng</td>\n      <td>transformer</td>\n      <td>nyzealandsk</td>\n      <td>nyzealandsk</td>\n      <td>nyzealandsk</td>\n      <td>ADJ;NEUT;SG\\n</td>\n      <td>0.768892</td>\n      <td>0</td>\n      <td>1</td>\n      <td>nno</td>\n      <td>eng</td>\n      <td>25</td>\n    </tr>\n    <tr>\n      <th>2</th>\n      <td>custom</td>\n      <td>nno+25r+eng</td>\n      <td>transformer</td>\n      <td>søkjast</td>\n      <td>søkjast</td>\n      <td>søkje</td>\n      <td>V;NFIN;PASS\\n</td>\n      <td>0.766975</td>\n      <td>0</td>\n      <td>1</td>\n      <td>nno</td>\n      <td>eng</td>\n      <td>25</td>\n    </tr>\n    <tr>\n      <th>3</th>\n      <td>custom</td>\n      <td>nno+25r+eng</td>\n      <td>transformer</td>\n      <td>trenarar</td>\n      <td>trenarar</td>\n      <td>trenar</td>\n      <td>N;NDEF;PL\\n</td>\n      <td>0.765859</td>\n      <td>0</td>\n      <td>1</td>\n      <td>nno</td>\n      <td>eng</td>\n      <td>25</td>\n    </tr>\n    <tr>\n      <th>4</th>\n      <td>custom</td>\n      <td>nno+25r+eng</td>\n      <td>transformer</td>\n      <td>kometar</td>\n      <td>kometar</td>\n      <td>komet</td>\n      <td>N;NDEF;PL\\n</td>\n      <td>0.828070</td>\n      <td>0</td>\n      <td>1</td>\n      <td>nno</td>\n      <td>eng</td>\n      <td>25</td>\n    </tr>\n  </tbody>\n</table>\n</div>"
     },
     "metadata": {},
     "execution_count": 1
    }
   ],
   "source": [
    "import pandas as pd\n",
    "\n",
    "raw = pd.read_csv('scraped_data/8-13-20.random.dev.predictions.csv')\n",
    "\n",
    "trglang = [lang.split('+')[0] for lang in raw.language]\n",
    "srclang = [lang.split('+')[-1] for lang in raw.language]\n",
    "percent_added = [int(lang.split('+')[1].split('r')[0]) for lang in raw.language] \n",
    "\n",
    "raw['target'], raw['add_lang'], raw['%added'] = trglang, srclang, percent_added\n",
    "\n",
    "raw.head()"
   ]
  },
  {
   "source": [
    "# The mean accuracy of GML \\ NNO"
   ],
   "cell_type": "markdown",
   "metadata": {}
  },
  {
   "cell_type": "code",
   "execution_count": 6,
   "metadata": {},
   "outputs": [
    {
     "output_type": "execute_result",
     "data": {
      "text/plain": "  target  is_correct\n0    gml    0.649483\n1    nno    0.859674",
      "text/html": "<div>\n<style scoped>\n    .dataframe tbody tr th:only-of-type {\n        vertical-align: middle;\n    }\n\n    .dataframe tbody tr th {\n        vertical-align: top;\n    }\n\n    .dataframe thead th {\n        text-align: right;\n    }\n</style>\n<table border=\"1\" class=\"dataframe\">\n  <thead>\n    <tr style=\"text-align: right;\">\n      <th></th>\n      <th>target</th>\n      <th>is_correct</th>\n    </tr>\n  </thead>\n  <tbody>\n    <tr>\n      <th>0</th>\n      <td>gml</td>\n      <td>0.649483</td>\n    </tr>\n    <tr>\n      <th>1</th>\n      <td>nno</td>\n      <td>0.859674</td>\n    </tr>\n  </tbody>\n</table>\n</div>"
     },
     "metadata": {},
     "execution_count": 6
    }
   ],
   "source": [
    "raw.groupby(['target']).agg({'is_correct':'mean'}).reset_index()"
   ]
  },
  {
   "source": [
    "# The mean accuracy by language added to GML \\ NNO"
   ],
   "cell_type": "markdown",
   "metadata": {}
  },
  {
   "cell_type": "code",
   "execution_count": 7,
   "metadata": {},
   "outputs": [
    {
     "output_type": "execute_result",
     "data": {
      "text/plain": "  target add_lang  is_correct\n0    gml      deu    0.638287\n1    gml      eng    0.656004\n2    gml      isl    0.650098\n3    gml      nno    0.653543\n4    nno      deu    0.856641\n5    nno      eng    0.853430\n6    nno      isl    0.865081\n7    nno      nno    0.867030",
      "text/html": "<div>\n<style scoped>\n    .dataframe tbody tr th:only-of-type {\n        vertical-align: middle;\n    }\n\n    .dataframe tbody tr th {\n        vertical-align: top;\n    }\n\n    .dataframe thead th {\n        text-align: right;\n    }\n</style>\n<table border=\"1\" class=\"dataframe\">\n  <thead>\n    <tr style=\"text-align: right;\">\n      <th></th>\n      <th>target</th>\n      <th>add_lang</th>\n      <th>is_correct</th>\n    </tr>\n  </thead>\n  <tbody>\n    <tr>\n      <th>0</th>\n      <td>gml</td>\n      <td>deu</td>\n      <td>0.638287</td>\n    </tr>\n    <tr>\n      <th>1</th>\n      <td>gml</td>\n      <td>eng</td>\n      <td>0.656004</td>\n    </tr>\n    <tr>\n      <th>2</th>\n      <td>gml</td>\n      <td>isl</td>\n      <td>0.650098</td>\n    </tr>\n    <tr>\n      <th>3</th>\n      <td>gml</td>\n      <td>nno</td>\n      <td>0.653543</td>\n    </tr>\n    <tr>\n      <th>4</th>\n      <td>nno</td>\n      <td>deu</td>\n      <td>0.856641</td>\n    </tr>\n    <tr>\n      <th>5</th>\n      <td>nno</td>\n      <td>eng</td>\n      <td>0.853430</td>\n    </tr>\n    <tr>\n      <th>6</th>\n      <td>nno</td>\n      <td>isl</td>\n      <td>0.865081</td>\n    </tr>\n    <tr>\n      <th>7</th>\n      <td>nno</td>\n      <td>nno</td>\n      <td>0.867030</td>\n    </tr>\n  </tbody>\n</table>\n</div>"
     },
     "metadata": {},
     "execution_count": 7
    }
   ],
   "source": [
    "raw.groupby(['target', 'add_lang']).agg({'is_correct':'mean'}).reset_index()"
   ]
  },
  {
   "source": [
    "# The mean accuracy of GML \\ NNO by percent of language added"
   ],
   "cell_type": "markdown",
   "metadata": {}
  },
  {
   "cell_type": "code",
   "execution_count": 11,
   "metadata": {},
   "outputs": [
    {
     "output_type": "execute_result",
     "data": {
      "text/plain": "               is_correct\ntarget %added            \ngml    25        0.639764\n       50        0.646654\n       75        0.650591\n       100       0.640748\n       125       0.654528\n       150       0.652559\n       175       0.654528\n       200       0.656496\nnno    25        0.862353\n       50        0.861920\n       75        0.863974\n       100       0.863652\n       125       0.858281\n       150       0.852506\n       175       0.857126\n       200       0.853892",
      "text/html": "<div>\n<style scoped>\n    .dataframe tbody tr th:only-of-type {\n        vertical-align: middle;\n    }\n\n    .dataframe tbody tr th {\n        vertical-align: top;\n    }\n\n    .dataframe thead th {\n        text-align: right;\n    }\n</style>\n<table border=\"1\" class=\"dataframe\">\n  <thead>\n    <tr style=\"text-align: right;\">\n      <th></th>\n      <th></th>\n      <th>is_correct</th>\n    </tr>\n    <tr>\n      <th>target</th>\n      <th>%added</th>\n      <th></th>\n    </tr>\n  </thead>\n  <tbody>\n    <tr>\n      <th rowspan=\"8\" valign=\"top\">gml</th>\n      <th>25</th>\n      <td>0.639764</td>\n    </tr>\n    <tr>\n      <th>50</th>\n      <td>0.646654</td>\n    </tr>\n    <tr>\n      <th>75</th>\n      <td>0.650591</td>\n    </tr>\n    <tr>\n      <th>100</th>\n      <td>0.640748</td>\n    </tr>\n    <tr>\n      <th>125</th>\n      <td>0.654528</td>\n    </tr>\n    <tr>\n      <th>150</th>\n      <td>0.652559</td>\n    </tr>\n    <tr>\n      <th>175</th>\n      <td>0.654528</td>\n    </tr>\n    <tr>\n      <th>200</th>\n      <td>0.656496</td>\n    </tr>\n    <tr>\n      <th rowspan=\"8\" valign=\"top\">nno</th>\n      <th>25</th>\n      <td>0.862353</td>\n    </tr>\n    <tr>\n      <th>50</th>\n      <td>0.861920</td>\n    </tr>\n    <tr>\n      <th>75</th>\n      <td>0.863974</td>\n    </tr>\n    <tr>\n      <th>100</th>\n      <td>0.863652</td>\n    </tr>\n    <tr>\n      <th>125</th>\n      <td>0.858281</td>\n    </tr>\n    <tr>\n      <th>150</th>\n      <td>0.852506</td>\n    </tr>\n    <tr>\n      <th>175</th>\n      <td>0.857126</td>\n    </tr>\n    <tr>\n      <th>200</th>\n      <td>0.853892</td>\n    </tr>\n  </tbody>\n</table>\n</div>"
     },
     "metadata": {},
     "execution_count": 11
    }
   ],
   "source": [
    "raw.groupby(['target', '%added']).agg({'is_correct':'mean'})"
   ]
  },
  {
   "source": [
    "# The number of models ran for GML \\ NNO"
   ],
   "cell_type": "markdown",
   "metadata": {}
  },
  {
   "cell_type": "code",
   "execution_count": 2,
   "metadata": {},
   "outputs": [
    {
     "output_type": "execute_result",
     "data": {
      "text/plain": "        language\ntarget          \ngml           32\nnno           28",
      "text/html": "<div>\n<style scoped>\n    .dataframe tbody tr th:only-of-type {\n        vertical-align: middle;\n    }\n\n    .dataframe tbody tr th {\n        vertical-align: top;\n    }\n\n    .dataframe thead th {\n        text-align: right;\n    }\n</style>\n<table border=\"1\" class=\"dataframe\">\n  <thead>\n    <tr style=\"text-align: right;\">\n      <th></th>\n      <th>language</th>\n    </tr>\n    <tr>\n      <th>target</th>\n      <th></th>\n    </tr>\n  </thead>\n  <tbody>\n    <tr>\n      <th>gml</th>\n      <td>32</td>\n    </tr>\n    <tr>\n      <th>nno</th>\n      <td>28</td>\n    </tr>\n  </tbody>\n</table>\n</div>"
     },
     "metadata": {},
     "execution_count": 2
    }
   ],
   "source": [
    "raw.groupby(['language']).agg({'prediction':'count', 'target':'max'}).reset_index().groupby(['target']).agg({'language':'count'})"
   ]
  },
  {
   "source": [
    "# The exact accuracy of every model"
   ],
   "cell_type": "markdown",
   "metadata": {}
  },
  {
   "cell_type": "code",
   "execution_count": 10,
   "metadata": {},
   "outputs": [
    {
     "output_type": "execute_result",
     "data": {
      "text/plain": "        language  is_correct\n0   gml+100r+deu    0.618110\n1   gml+100r+eng    0.653543\n2   gml+100r+isl    0.657480\n3   gml+100r+nno    0.633858\n4   gml+125r+deu    0.625984\n5   gml+125r+eng    0.657480\n6   gml+125r+isl    0.653543\n7   gml+125r+nno    0.681102\n8   gml+150r+deu    0.665354\n9   gml+150r+eng    0.653543\n10  gml+150r+isl    0.645669\n11  gml+150r+nno    0.645669\n12  gml+175r+deu    0.645669\n13  gml+175r+eng    0.661417\n14  gml+175r+isl    0.653543\n15  gml+175r+nno    0.657480\n16  gml+200r+deu    0.641732\n17  gml+200r+eng    0.673228\n18  gml+200r+isl    0.657480\n19  gml+200r+nno    0.653543\n20   gml+25r+deu    0.606299\n21   gml+25r+eng    0.665354\n22   gml+25r+isl    0.637795\n23   gml+25r+nno    0.649606\n24   gml+50r+deu    0.637795\n25   gml+50r+eng    0.657480\n26   gml+50r+isl    0.641732\n27   gml+50r+nno    0.649606\n28   gml+75r+deu    0.665354\n29   gml+75r+eng    0.625984\n30   gml+75r+isl    0.653543\n31   gml+75r+nno    0.657480\n32  nno+100r+deu    0.856895\n33  nno+100r+eng    0.851351\n34  nno+100r+isl    0.873527\n35  nno+100r+nno    0.872834\n36  nno+125r+deu    0.857588\n37  nno+125r+eng    0.852737\n38  nno+125r+isl    0.864518\n39  nno+150r+deu    0.856895\n40  nno+150r+eng    0.838184\n41  nno+150r+isl    0.862439\n42  nno+175r+deu    0.855163\n43  nno+175r+eng    0.849272\n44  nno+175r+isl    0.866944\n45  nno+200r+deu    0.849272\n46  nno+200r+eng    0.853777\n47  nno+200r+isl    0.858628\n48   nno+25r+deu    0.865904\n49   nno+25r+eng    0.861746\n50   nno+25r+isl    0.858974\n51   nno+25r+nno    0.862786\n52   nno+50r+deu    0.867290\n53   nno+50r+eng    0.854123\n54   nno+50r+isl    0.862439\n55   nno+50r+nno    0.863825\n56   nno+75r+deu    0.831601\n57   nno+75r+eng    0.866251\n58   nno+75r+isl    0.873181\n59   nno+75r+nno    0.868676",
      "text/html": "<div>\n<style scoped>\n    .dataframe tbody tr th:only-of-type {\n        vertical-align: middle;\n    }\n\n    .dataframe tbody tr th {\n        vertical-align: top;\n    }\n\n    .dataframe thead th {\n        text-align: right;\n    }\n</style>\n<table border=\"1\" class=\"dataframe\">\n  <thead>\n    <tr style=\"text-align: right;\">\n      <th></th>\n      <th>language</th>\n      <th>is_correct</th>\n    </tr>\n  </thead>\n  <tbody>\n    <tr>\n      <th>0</th>\n      <td>gml+100r+deu</td>\n      <td>0.618110</td>\n    </tr>\n    <tr>\n      <th>1</th>\n      <td>gml+100r+eng</td>\n      <td>0.653543</td>\n    </tr>\n    <tr>\n      <th>2</th>\n      <td>gml+100r+isl</td>\n      <td>0.657480</td>\n    </tr>\n    <tr>\n      <th>3</th>\n      <td>gml+100r+nno</td>\n      <td>0.633858</td>\n    </tr>\n    <tr>\n      <th>4</th>\n      <td>gml+125r+deu</td>\n      <td>0.625984</td>\n    </tr>\n    <tr>\n      <th>5</th>\n      <td>gml+125r+eng</td>\n      <td>0.657480</td>\n    </tr>\n    <tr>\n      <th>6</th>\n      <td>gml+125r+isl</td>\n      <td>0.653543</td>\n    </tr>\n    <tr>\n      <th>7</th>\n      <td>gml+125r+nno</td>\n      <td>0.681102</td>\n    </tr>\n    <tr>\n      <th>8</th>\n      <td>gml+150r+deu</td>\n      <td>0.665354</td>\n    </tr>\n    <tr>\n      <th>9</th>\n      <td>gml+150r+eng</td>\n      <td>0.653543</td>\n    </tr>\n    <tr>\n      <th>10</th>\n      <td>gml+150r+isl</td>\n      <td>0.645669</td>\n    </tr>\n    <tr>\n      <th>11</th>\n      <td>gml+150r+nno</td>\n      <td>0.645669</td>\n    </tr>\n    <tr>\n      <th>12</th>\n      <td>gml+175r+deu</td>\n      <td>0.645669</td>\n    </tr>\n    <tr>\n      <th>13</th>\n      <td>gml+175r+eng</td>\n      <td>0.661417</td>\n    </tr>\n    <tr>\n      <th>14</th>\n      <td>gml+175r+isl</td>\n      <td>0.653543</td>\n    </tr>\n    <tr>\n      <th>15</th>\n      <td>gml+175r+nno</td>\n      <td>0.657480</td>\n    </tr>\n    <tr>\n      <th>16</th>\n      <td>gml+200r+deu</td>\n      <td>0.641732</td>\n    </tr>\n    <tr>\n      <th>17</th>\n      <td>gml+200r+eng</td>\n      <td>0.673228</td>\n    </tr>\n    <tr>\n      <th>18</th>\n      <td>gml+200r+isl</td>\n      <td>0.657480</td>\n    </tr>\n    <tr>\n      <th>19</th>\n      <td>gml+200r+nno</td>\n      <td>0.653543</td>\n    </tr>\n    <tr>\n      <th>20</th>\n      <td>gml+25r+deu</td>\n      <td>0.606299</td>\n    </tr>\n    <tr>\n      <th>21</th>\n      <td>gml+25r+eng</td>\n      <td>0.665354</td>\n    </tr>\n    <tr>\n      <th>22</th>\n      <td>gml+25r+isl</td>\n      <td>0.637795</td>\n    </tr>\n    <tr>\n      <th>23</th>\n      <td>gml+25r+nno</td>\n      <td>0.649606</td>\n    </tr>\n    <tr>\n      <th>24</th>\n      <td>gml+50r+deu</td>\n      <td>0.637795</td>\n    </tr>\n    <tr>\n      <th>25</th>\n      <td>gml+50r+eng</td>\n      <td>0.657480</td>\n    </tr>\n    <tr>\n      <th>26</th>\n      <td>gml+50r+isl</td>\n      <td>0.641732</td>\n    </tr>\n    <tr>\n      <th>27</th>\n      <td>gml+50r+nno</td>\n      <td>0.649606</td>\n    </tr>\n    <tr>\n      <th>28</th>\n      <td>gml+75r+deu</td>\n      <td>0.665354</td>\n    </tr>\n    <tr>\n      <th>29</th>\n      <td>gml+75r+eng</td>\n      <td>0.625984</td>\n    </tr>\n    <tr>\n      <th>30</th>\n      <td>gml+75r+isl</td>\n      <td>0.653543</td>\n    </tr>\n    <tr>\n      <th>31</th>\n      <td>gml+75r+nno</td>\n      <td>0.657480</td>\n    </tr>\n    <tr>\n      <th>32</th>\n      <td>nno+100r+deu</td>\n      <td>0.856895</td>\n    </tr>\n    <tr>\n      <th>33</th>\n      <td>nno+100r+eng</td>\n      <td>0.851351</td>\n    </tr>\n    <tr>\n      <th>34</th>\n      <td>nno+100r+isl</td>\n      <td>0.873527</td>\n    </tr>\n    <tr>\n      <th>35</th>\n      <td>nno+100r+nno</td>\n      <td>0.872834</td>\n    </tr>\n    <tr>\n      <th>36</th>\n      <td>nno+125r+deu</td>\n      <td>0.857588</td>\n    </tr>\n    <tr>\n      <th>37</th>\n      <td>nno+125r+eng</td>\n      <td>0.852737</td>\n    </tr>\n    <tr>\n      <th>38</th>\n      <td>nno+125r+isl</td>\n      <td>0.864518</td>\n    </tr>\n    <tr>\n      <th>39</th>\n      <td>nno+150r+deu</td>\n      <td>0.856895</td>\n    </tr>\n    <tr>\n      <th>40</th>\n      <td>nno+150r+eng</td>\n      <td>0.838184</td>\n    </tr>\n    <tr>\n      <th>41</th>\n      <td>nno+150r+isl</td>\n      <td>0.862439</td>\n    </tr>\n    <tr>\n      <th>42</th>\n      <td>nno+175r+deu</td>\n      <td>0.855163</td>\n    </tr>\n    <tr>\n      <th>43</th>\n      <td>nno+175r+eng</td>\n      <td>0.849272</td>\n    </tr>\n    <tr>\n      <th>44</th>\n      <td>nno+175r+isl</td>\n      <td>0.866944</td>\n    </tr>\n    <tr>\n      <th>45</th>\n      <td>nno+200r+deu</td>\n      <td>0.849272</td>\n    </tr>\n    <tr>\n      <th>46</th>\n      <td>nno+200r+eng</td>\n      <td>0.853777</td>\n    </tr>\n    <tr>\n      <th>47</th>\n      <td>nno+200r+isl</td>\n      <td>0.858628</td>\n    </tr>\n    <tr>\n      <th>48</th>\n      <td>nno+25r+deu</td>\n      <td>0.865904</td>\n    </tr>\n    <tr>\n      <th>49</th>\n      <td>nno+25r+eng</td>\n      <td>0.861746</td>\n    </tr>\n    <tr>\n      <th>50</th>\n      <td>nno+25r+isl</td>\n      <td>0.858974</td>\n    </tr>\n    <tr>\n      <th>51</th>\n      <td>nno+25r+nno</td>\n      <td>0.862786</td>\n    </tr>\n    <tr>\n      <th>52</th>\n      <td>nno+50r+deu</td>\n      <td>0.867290</td>\n    </tr>\n    <tr>\n      <th>53</th>\n      <td>nno+50r+eng</td>\n      <td>0.854123</td>\n    </tr>\n    <tr>\n      <th>54</th>\n      <td>nno+50r+isl</td>\n      <td>0.862439</td>\n    </tr>\n    <tr>\n      <th>55</th>\n      <td>nno+50r+nno</td>\n      <td>0.863825</td>\n    </tr>\n    <tr>\n      <th>56</th>\n      <td>nno+75r+deu</td>\n      <td>0.831601</td>\n    </tr>\n    <tr>\n      <th>57</th>\n      <td>nno+75r+eng</td>\n      <td>0.866251</td>\n    </tr>\n    <tr>\n      <th>58</th>\n      <td>nno+75r+isl</td>\n      <td>0.873181</td>\n    </tr>\n    <tr>\n      <th>59</th>\n      <td>nno+75r+nno</td>\n      <td>0.868676</td>\n    </tr>\n  </tbody>\n</table>\n</div>"
     },
     "metadata": {},
     "execution_count": 10
    }
   ],
   "source": [
    "raw.groupby(['language']).agg({'is_correct':'mean'}).reset_index()"
   ]
  }
 ]
}